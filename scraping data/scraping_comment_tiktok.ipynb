{
  "nbformat": 4,
  "nbformat_minor": 0,
  "metadata": {
    "colab": {
      "provenance": []
    },
    "kernelspec": {
      "name": "python3",
      "display_name": "Python 3"
    },
    "language_info": {
      "name": "python"
    }
  },
  "cells": [
    {
      "cell_type": "code",
      "execution_count": 1,
      "metadata": {
        "colab": {
          "base_uri": "https://localhost:8080/"
        },
        "id": "xfsFNdEI5Re4",
        "outputId": "10bc63de-e5f4-41ab-adc6-a979526a0075"
      },
      "outputs": [
        {
          "output_type": "stream",
          "name": "stdout",
          "text": [
            "Collecting google_play_scraper\n",
            "  Downloading google_play_scraper-1.2.7-py3-none-any.whl.metadata (50 kB)\n",
            "\u001b[?25l     \u001b[90m━━━━━━━━━━━━━━━━━━━━━━━━━━━━━━━━━━━━━━━━\u001b[0m \u001b[32m0.0/50.2 kB\u001b[0m \u001b[31m?\u001b[0m eta \u001b[36m-:--:--\u001b[0m\r\u001b[2K     \u001b[90m━━━━━━━━━━━━━━━━━━━━━━━━━━━━━━━━━━━━━━━━\u001b[0m \u001b[32m50.2/50.2 kB\u001b[0m \u001b[31m2.2 MB/s\u001b[0m eta \u001b[36m0:00:00\u001b[0m\n",
            "\u001b[?25hDownloading google_play_scraper-1.2.7-py3-none-any.whl (28 kB)\n",
            "Installing collected packages: google_play_scraper\n",
            "Successfully installed google_play_scraper-1.2.7\n"
          ]
        }
      ],
      "source": [
        "!pip install google_play_scraper"
      ]
    },
    {
      "cell_type": "code",
      "source": [
        "from google_play_scraper import reviews, Sort\n",
        "\n",
        "# Ganti dengan app ID Threads dari link yang lo kasih\n",
        "app_ID = 'com.ss.android.ugc.trill'\n",
        "\n",
        "# Ambil review terbaru\n",
        "result, _ = reviews(\n",
        "    app_ID,\n",
        "    lang='id',       # Bahasa Indonesia\n",
        "    country='id',    # Lokasi Indonesia\n",
        "    sort=Sort.NEWEST,\n",
        "    count=30000      # Jumlah review yang diambil\n",
        ")\n",
        "\n",
        "print(f\"Jumlah data yang diambil: {len(result)}\")"
      ],
      "metadata": {
        "id": "XbfSY1uq8mi7",
        "colab": {
          "base_uri": "https://localhost:8080/"
        },
        "outputId": "a3a4aa1b-2205-4c70-add6-61790bba623d"
      },
      "execution_count": 5,
      "outputs": [
        {
          "output_type": "stream",
          "name": "stdout",
          "text": [
            "Jumlah data yang diambil: 30000\n"
          ]
        }
      ]
    },
    {
      "cell_type": "code",
      "source": [
        "import pandas as pd\n",
        "\n",
        "df_reviews = pd.DataFrame(result)\n",
        "df_2024_2025 = df_reviews[(df_reviews['at'].dt.year == 2024) | (df_reviews['at'].dt.year == 2025)]\n",
        "df_reviews.head()"
      ],
      "metadata": {
        "colab": {
          "base_uri": "https://localhost:8080/",
          "height": 504
        },
        "id": "23W7186AC3jE",
        "outputId": "6252b499-21e1-4853-f4a3-8b4425f0c9c3"
      },
      "execution_count": 6,
      "outputs": [
        {
          "output_type": "execute_result",
          "data": {
            "text/plain": [
              "                               reviewId         userName  \\\n",
              "0  df210a74-9906-4727-b279-860cea6fd62b  Pengguna Google   \n",
              "1  573030b1-4b5b-4062-84e3-7c2e4b37d61a  Pengguna Google   \n",
              "2  53f22382-c917-4250-a96b-47683c9407f6  Pengguna Google   \n",
              "3  46b9eebd-7f46-4342-bcba-d9b807514551  Pengguna Google   \n",
              "4  a32b308b-a839-4c2c-9325-c9acf7dffc2d  Pengguna Google   \n",
              "\n",
              "                                           userImage  \\\n",
              "0  https://play-lh.googleusercontent.com/EGemoI2N...   \n",
              "1  https://play-lh.googleusercontent.com/EGemoI2N...   \n",
              "2  https://play-lh.googleusercontent.com/EGemoI2N...   \n",
              "3  https://play-lh.googleusercontent.com/EGemoI2N...   \n",
              "4  https://play-lh.googleusercontent.com/EGemoI2N...   \n",
              "\n",
              "                                             content  score  thumbsUpCount  \\\n",
              "0                                        bagus bngtt      5              0   \n",
              "1                                     apk bikin puas      5              0   \n",
              "2                                         mantapp su      5              0   \n",
              "3                                                  👌      5              0   \n",
              "4  Tik tok knp si dari kemaren g bisa di buka,klo...      2              0   \n",
              "\n",
              "  reviewCreatedVersion                  at replyContent repliedAt appVersion  \n",
              "0                 None 2025-05-04 18:47:02         None       NaT       None  \n",
              "1               39.7.3 2025-05-04 18:46:42         None       NaT     39.7.3  \n",
              "2                 None 2025-05-04 18:45:35         None       NaT       None  \n",
              "3               39.7.3 2025-05-04 18:43:40         None       NaT     39.7.3  \n",
              "4               39.7.3 2025-05-04 18:38:24         None       NaT     39.7.3  "
            ],
            "text/html": [
              "\n",
              "  <div id=\"df-d6565d6c-282d-4653-8fe8-946c5af62cdf\" class=\"colab-df-container\">\n",
              "    <div>\n",
              "<style scoped>\n",
              "    .dataframe tbody tr th:only-of-type {\n",
              "        vertical-align: middle;\n",
              "    }\n",
              "\n",
              "    .dataframe tbody tr th {\n",
              "        vertical-align: top;\n",
              "    }\n",
              "\n",
              "    .dataframe thead th {\n",
              "        text-align: right;\n",
              "    }\n",
              "</style>\n",
              "<table border=\"1\" class=\"dataframe\">\n",
              "  <thead>\n",
              "    <tr style=\"text-align: right;\">\n",
              "      <th></th>\n",
              "      <th>reviewId</th>\n",
              "      <th>userName</th>\n",
              "      <th>userImage</th>\n",
              "      <th>content</th>\n",
              "      <th>score</th>\n",
              "      <th>thumbsUpCount</th>\n",
              "      <th>reviewCreatedVersion</th>\n",
              "      <th>at</th>\n",
              "      <th>replyContent</th>\n",
              "      <th>repliedAt</th>\n",
              "      <th>appVersion</th>\n",
              "    </tr>\n",
              "  </thead>\n",
              "  <tbody>\n",
              "    <tr>\n",
              "      <th>0</th>\n",
              "      <td>df210a74-9906-4727-b279-860cea6fd62b</td>\n",
              "      <td>Pengguna Google</td>\n",
              "      <td>https://play-lh.googleusercontent.com/EGemoI2N...</td>\n",
              "      <td>bagus bngtt</td>\n",
              "      <td>5</td>\n",
              "      <td>0</td>\n",
              "      <td>None</td>\n",
              "      <td>2025-05-04 18:47:02</td>\n",
              "      <td>None</td>\n",
              "      <td>NaT</td>\n",
              "      <td>None</td>\n",
              "    </tr>\n",
              "    <tr>\n",
              "      <th>1</th>\n",
              "      <td>573030b1-4b5b-4062-84e3-7c2e4b37d61a</td>\n",
              "      <td>Pengguna Google</td>\n",
              "      <td>https://play-lh.googleusercontent.com/EGemoI2N...</td>\n",
              "      <td>apk bikin puas</td>\n",
              "      <td>5</td>\n",
              "      <td>0</td>\n",
              "      <td>39.7.3</td>\n",
              "      <td>2025-05-04 18:46:42</td>\n",
              "      <td>None</td>\n",
              "      <td>NaT</td>\n",
              "      <td>39.7.3</td>\n",
              "    </tr>\n",
              "    <tr>\n",
              "      <th>2</th>\n",
              "      <td>53f22382-c917-4250-a96b-47683c9407f6</td>\n",
              "      <td>Pengguna Google</td>\n",
              "      <td>https://play-lh.googleusercontent.com/EGemoI2N...</td>\n",
              "      <td>mantapp su</td>\n",
              "      <td>5</td>\n",
              "      <td>0</td>\n",
              "      <td>None</td>\n",
              "      <td>2025-05-04 18:45:35</td>\n",
              "      <td>None</td>\n",
              "      <td>NaT</td>\n",
              "      <td>None</td>\n",
              "    </tr>\n",
              "    <tr>\n",
              "      <th>3</th>\n",
              "      <td>46b9eebd-7f46-4342-bcba-d9b807514551</td>\n",
              "      <td>Pengguna Google</td>\n",
              "      <td>https://play-lh.googleusercontent.com/EGemoI2N...</td>\n",
              "      <td>👌</td>\n",
              "      <td>5</td>\n",
              "      <td>0</td>\n",
              "      <td>39.7.3</td>\n",
              "      <td>2025-05-04 18:43:40</td>\n",
              "      <td>None</td>\n",
              "      <td>NaT</td>\n",
              "      <td>39.7.3</td>\n",
              "    </tr>\n",
              "    <tr>\n",
              "      <th>4</th>\n",
              "      <td>a32b308b-a839-4c2c-9325-c9acf7dffc2d</td>\n",
              "      <td>Pengguna Google</td>\n",
              "      <td>https://play-lh.googleusercontent.com/EGemoI2N...</td>\n",
              "      <td>Tik tok knp si dari kemaren g bisa di buka,klo...</td>\n",
              "      <td>2</td>\n",
              "      <td>0</td>\n",
              "      <td>39.7.3</td>\n",
              "      <td>2025-05-04 18:38:24</td>\n",
              "      <td>None</td>\n",
              "      <td>NaT</td>\n",
              "      <td>39.7.3</td>\n",
              "    </tr>\n",
              "  </tbody>\n",
              "</table>\n",
              "</div>\n",
              "    <div class=\"colab-df-buttons\">\n",
              "\n",
              "  <div class=\"colab-df-container\">\n",
              "    <button class=\"colab-df-convert\" onclick=\"convertToInteractive('df-d6565d6c-282d-4653-8fe8-946c5af62cdf')\"\n",
              "            title=\"Convert this dataframe to an interactive table.\"\n",
              "            style=\"display:none;\">\n",
              "\n",
              "  <svg xmlns=\"http://www.w3.org/2000/svg\" height=\"24px\" viewBox=\"0 -960 960 960\">\n",
              "    <path d=\"M120-120v-720h720v720H120Zm60-500h600v-160H180v160Zm220 220h160v-160H400v160Zm0 220h160v-160H400v160ZM180-400h160v-160H180v160Zm440 0h160v-160H620v160ZM180-180h160v-160H180v160Zm440 0h160v-160H620v160Z\"/>\n",
              "  </svg>\n",
              "    </button>\n",
              "\n",
              "  <style>\n",
              "    .colab-df-container {\n",
              "      display:flex;\n",
              "      gap: 12px;\n",
              "    }\n",
              "\n",
              "    .colab-df-convert {\n",
              "      background-color: #E8F0FE;\n",
              "      border: none;\n",
              "      border-radius: 50%;\n",
              "      cursor: pointer;\n",
              "      display: none;\n",
              "      fill: #1967D2;\n",
              "      height: 32px;\n",
              "      padding: 0 0 0 0;\n",
              "      width: 32px;\n",
              "    }\n",
              "\n",
              "    .colab-df-convert:hover {\n",
              "      background-color: #E2EBFA;\n",
              "      box-shadow: 0px 1px 2px rgba(60, 64, 67, 0.3), 0px 1px 3px 1px rgba(60, 64, 67, 0.15);\n",
              "      fill: #174EA6;\n",
              "    }\n",
              "\n",
              "    .colab-df-buttons div {\n",
              "      margin-bottom: 4px;\n",
              "    }\n",
              "\n",
              "    [theme=dark] .colab-df-convert {\n",
              "      background-color: #3B4455;\n",
              "      fill: #D2E3FC;\n",
              "    }\n",
              "\n",
              "    [theme=dark] .colab-df-convert:hover {\n",
              "      background-color: #434B5C;\n",
              "      box-shadow: 0px 1px 3px 1px rgba(0, 0, 0, 0.15);\n",
              "      filter: drop-shadow(0px 1px 2px rgba(0, 0, 0, 0.3));\n",
              "      fill: #FFFFFF;\n",
              "    }\n",
              "  </style>\n",
              "\n",
              "    <script>\n",
              "      const buttonEl =\n",
              "        document.querySelector('#df-d6565d6c-282d-4653-8fe8-946c5af62cdf button.colab-df-convert');\n",
              "      buttonEl.style.display =\n",
              "        google.colab.kernel.accessAllowed ? 'block' : 'none';\n",
              "\n",
              "      async function convertToInteractive(key) {\n",
              "        const element = document.querySelector('#df-d6565d6c-282d-4653-8fe8-946c5af62cdf');\n",
              "        const dataTable =\n",
              "          await google.colab.kernel.invokeFunction('convertToInteractive',\n",
              "                                                    [key], {});\n",
              "        if (!dataTable) return;\n",
              "\n",
              "        const docLinkHtml = 'Like what you see? Visit the ' +\n",
              "          '<a target=\"_blank\" href=https://colab.research.google.com/notebooks/data_table.ipynb>data table notebook</a>'\n",
              "          + ' to learn more about interactive tables.';\n",
              "        element.innerHTML = '';\n",
              "        dataTable['output_type'] = 'display_data';\n",
              "        await google.colab.output.renderOutput(dataTable, element);\n",
              "        const docLink = document.createElement('div');\n",
              "        docLink.innerHTML = docLinkHtml;\n",
              "        element.appendChild(docLink);\n",
              "      }\n",
              "    </script>\n",
              "  </div>\n",
              "\n",
              "\n",
              "    <div id=\"df-388799ac-687c-48bf-aca2-f440a2384a24\">\n",
              "      <button class=\"colab-df-quickchart\" onclick=\"quickchart('df-388799ac-687c-48bf-aca2-f440a2384a24')\"\n",
              "                title=\"Suggest charts\"\n",
              "                style=\"display:none;\">\n",
              "\n",
              "<svg xmlns=\"http://www.w3.org/2000/svg\" height=\"24px\"viewBox=\"0 0 24 24\"\n",
              "     width=\"24px\">\n",
              "    <g>\n",
              "        <path d=\"M19 3H5c-1.1 0-2 .9-2 2v14c0 1.1.9 2 2 2h14c1.1 0 2-.9 2-2V5c0-1.1-.9-2-2-2zM9 17H7v-7h2v7zm4 0h-2V7h2v10zm4 0h-2v-4h2v4z\"/>\n",
              "    </g>\n",
              "</svg>\n",
              "      </button>\n",
              "\n",
              "<style>\n",
              "  .colab-df-quickchart {\n",
              "      --bg-color: #E8F0FE;\n",
              "      --fill-color: #1967D2;\n",
              "      --hover-bg-color: #E2EBFA;\n",
              "      --hover-fill-color: #174EA6;\n",
              "      --disabled-fill-color: #AAA;\n",
              "      --disabled-bg-color: #DDD;\n",
              "  }\n",
              "\n",
              "  [theme=dark] .colab-df-quickchart {\n",
              "      --bg-color: #3B4455;\n",
              "      --fill-color: #D2E3FC;\n",
              "      --hover-bg-color: #434B5C;\n",
              "      --hover-fill-color: #FFFFFF;\n",
              "      --disabled-bg-color: #3B4455;\n",
              "      --disabled-fill-color: #666;\n",
              "  }\n",
              "\n",
              "  .colab-df-quickchart {\n",
              "    background-color: var(--bg-color);\n",
              "    border: none;\n",
              "    border-radius: 50%;\n",
              "    cursor: pointer;\n",
              "    display: none;\n",
              "    fill: var(--fill-color);\n",
              "    height: 32px;\n",
              "    padding: 0;\n",
              "    width: 32px;\n",
              "  }\n",
              "\n",
              "  .colab-df-quickchart:hover {\n",
              "    background-color: var(--hover-bg-color);\n",
              "    box-shadow: 0 1px 2px rgba(60, 64, 67, 0.3), 0 1px 3px 1px rgba(60, 64, 67, 0.15);\n",
              "    fill: var(--button-hover-fill-color);\n",
              "  }\n",
              "\n",
              "  .colab-df-quickchart-complete:disabled,\n",
              "  .colab-df-quickchart-complete:disabled:hover {\n",
              "    background-color: var(--disabled-bg-color);\n",
              "    fill: var(--disabled-fill-color);\n",
              "    box-shadow: none;\n",
              "  }\n",
              "\n",
              "  .colab-df-spinner {\n",
              "    border: 2px solid var(--fill-color);\n",
              "    border-color: transparent;\n",
              "    border-bottom-color: var(--fill-color);\n",
              "    animation:\n",
              "      spin 1s steps(1) infinite;\n",
              "  }\n",
              "\n",
              "  @keyframes spin {\n",
              "    0% {\n",
              "      border-color: transparent;\n",
              "      border-bottom-color: var(--fill-color);\n",
              "      border-left-color: var(--fill-color);\n",
              "    }\n",
              "    20% {\n",
              "      border-color: transparent;\n",
              "      border-left-color: var(--fill-color);\n",
              "      border-top-color: var(--fill-color);\n",
              "    }\n",
              "    30% {\n",
              "      border-color: transparent;\n",
              "      border-left-color: var(--fill-color);\n",
              "      border-top-color: var(--fill-color);\n",
              "      border-right-color: var(--fill-color);\n",
              "    }\n",
              "    40% {\n",
              "      border-color: transparent;\n",
              "      border-right-color: var(--fill-color);\n",
              "      border-top-color: var(--fill-color);\n",
              "    }\n",
              "    60% {\n",
              "      border-color: transparent;\n",
              "      border-right-color: var(--fill-color);\n",
              "    }\n",
              "    80% {\n",
              "      border-color: transparent;\n",
              "      border-right-color: var(--fill-color);\n",
              "      border-bottom-color: var(--fill-color);\n",
              "    }\n",
              "    90% {\n",
              "      border-color: transparent;\n",
              "      border-bottom-color: var(--fill-color);\n",
              "    }\n",
              "  }\n",
              "</style>\n",
              "\n",
              "      <script>\n",
              "        async function quickchart(key) {\n",
              "          const quickchartButtonEl =\n",
              "            document.querySelector('#' + key + ' button');\n",
              "          quickchartButtonEl.disabled = true;  // To prevent multiple clicks.\n",
              "          quickchartButtonEl.classList.add('colab-df-spinner');\n",
              "          try {\n",
              "            const charts = await google.colab.kernel.invokeFunction(\n",
              "                'suggestCharts', [key], {});\n",
              "          } catch (error) {\n",
              "            console.error('Error during call to suggestCharts:', error);\n",
              "          }\n",
              "          quickchartButtonEl.classList.remove('colab-df-spinner');\n",
              "          quickchartButtonEl.classList.add('colab-df-quickchart-complete');\n",
              "        }\n",
              "        (() => {\n",
              "          let quickchartButtonEl =\n",
              "            document.querySelector('#df-388799ac-687c-48bf-aca2-f440a2384a24 button');\n",
              "          quickchartButtonEl.style.display =\n",
              "            google.colab.kernel.accessAllowed ? 'block' : 'none';\n",
              "        })();\n",
              "      </script>\n",
              "    </div>\n",
              "\n",
              "    </div>\n",
              "  </div>\n"
            ],
            "application/vnd.google.colaboratory.intrinsic+json": {
              "type": "dataframe",
              "variable_name": "df_reviews",
              "summary": "{\n  \"name\": \"df_reviews\",\n  \"rows\": 30000,\n  \"fields\": [\n    {\n      \"column\": \"reviewId\",\n      \"properties\": {\n        \"dtype\": \"string\",\n        \"num_unique_values\": 30000,\n        \"samples\": [\n          \"dffe2a3c-b893-48f2-aab8-1eb8c0b20213\",\n          \"10814a26-e17c-4040-94da-606d6cc178e9\",\n          \"2fa866f7-cfa8-4590-9425-156246d1c8c4\"\n        ],\n        \"semantic_type\": \"\",\n        \"description\": \"\"\n      }\n    },\n    {\n      \"column\": \"userName\",\n      \"properties\": {\n        \"dtype\": \"category\",\n        \"num_unique_values\": 1,\n        \"samples\": [\n          \"Pengguna Google\"\n        ],\n        \"semantic_type\": \"\",\n        \"description\": \"\"\n      }\n    },\n    {\n      \"column\": \"userImage\",\n      \"properties\": {\n        \"dtype\": \"category\",\n        \"num_unique_values\": 1,\n        \"samples\": [\n          \"https://play-lh.googleusercontent.com/EGemoI2NTXmTsBVtJqk8jxF9rh8ApRWfsIMQSt2uE4OcpQqbFu7f7NbTK05lx80nuSijCz7sc3a277R67g\"\n        ],\n        \"semantic_type\": \"\",\n        \"description\": \"\"\n      }\n    },\n    {\n      \"column\": \"content\",\n      \"properties\": {\n        \"dtype\": \"string\",\n        \"num_unique_values\": 24130,\n        \"samples\": [\n          \"mengapa aplikasi ini \\ud83d\\ude4f\\ud83d\\ude4f selalu di update ??\"\n        ],\n        \"semantic_type\": \"\",\n        \"description\": \"\"\n      }\n    },\n    {\n      \"column\": \"score\",\n      \"properties\": {\n        \"dtype\": \"number\",\n        \"std\": 1,\n        \"min\": 1,\n        \"max\": 5,\n        \"num_unique_values\": 5,\n        \"samples\": [\n          2\n        ],\n        \"semantic_type\": \"\",\n        \"description\": \"\"\n      }\n    },\n    {\n      \"column\": \"thumbsUpCount\",\n      \"properties\": {\n        \"dtype\": \"number\",\n        \"std\": 176,\n        \"min\": 0,\n        \"max\": 13059,\n        \"num_unique_values\": 124,\n        \"samples\": [\n          7125\n        ],\n        \"semantic_type\": \"\",\n        \"description\": \"\"\n      }\n    },\n    {\n      \"column\": \"reviewCreatedVersion\",\n      \"properties\": {\n        \"dtype\": \"category\",\n        \"num_unique_values\": 384,\n        \"samples\": [\n          \"26.1.3\"\n        ],\n        \"semantic_type\": \"\",\n        \"description\": \"\"\n      }\n    },\n    {\n      \"column\": \"at\",\n      \"properties\": {\n        \"dtype\": \"date\",\n        \"min\": \"2025-04-13 00:32:25\",\n        \"max\": \"2025-05-04 18:47:02\",\n        \"num_unique_values\": 29692,\n        \"samples\": [\n          \"2025-04-22 03:53:27\"\n        ],\n        \"semantic_type\": \"\",\n        \"description\": \"\"\n      }\n    },\n    {\n      \"column\": \"replyContent\",\n      \"properties\": {\n        \"dtype\": \"category\",\n        \"num_unique_values\": 9,\n        \"samples\": [\n          \"We are sorry you had this experience. Thank you for taking time to reach out to us. Please provide more details using the Report a Problem feature within the Settings and Privacy section of your mobile app or web browser so our team can help resolve this issue for you.\"\n        ],\n        \"semantic_type\": \"\",\n        \"description\": \"\"\n      }\n    },\n    {\n      \"column\": \"repliedAt\",\n      \"properties\": {\n        \"dtype\": \"date\",\n        \"min\": \"2024-04-30 02:42:41\",\n        \"max\": \"2025-03-13 21:41:08\",\n        \"num_unique_values\": 10,\n        \"samples\": [\n          \"2024-11-04 11:08:02\"\n        ],\n        \"semantic_type\": \"\",\n        \"description\": \"\"\n      }\n    },\n    {\n      \"column\": \"appVersion\",\n      \"properties\": {\n        \"dtype\": \"category\",\n        \"num_unique_values\": 384,\n        \"samples\": [\n          \"26.1.3\"\n        ],\n        \"semantic_type\": \"\",\n        \"description\": \"\"\n      }\n    }\n  ]\n}"
            }
          },
          "metadata": {},
          "execution_count": 6
        }
      ]
    },
    {
      "cell_type": "code",
      "source": [
        "df_reviews.info()"
      ],
      "metadata": {
        "colab": {
          "base_uri": "https://localhost:8080/"
        },
        "id": "6hdtMGRLcSR3",
        "outputId": "786c5c8b-e47b-4058-ed6e-c0e41f30cc71"
      },
      "execution_count": 7,
      "outputs": [
        {
          "output_type": "stream",
          "name": "stdout",
          "text": [
            "<class 'pandas.core.frame.DataFrame'>\n",
            "RangeIndex: 30000 entries, 0 to 29999\n",
            "Data columns (total 11 columns):\n",
            " #   Column                Non-Null Count  Dtype         \n",
            "---  ------                --------------  -----         \n",
            " 0   reviewId              30000 non-null  object        \n",
            " 1   userName              30000 non-null  object        \n",
            " 2   userImage             30000 non-null  object        \n",
            " 3   content               30000 non-null  object        \n",
            " 4   score                 30000 non-null  int64         \n",
            " 5   thumbsUpCount         30000 non-null  int64         \n",
            " 6   reviewCreatedVersion  17782 non-null  object        \n",
            " 7   at                    30000 non-null  datetime64[ns]\n",
            " 8   replyContent          10 non-null     object        \n",
            " 9   repliedAt             10 non-null     datetime64[ns]\n",
            " 10  appVersion            17782 non-null  object        \n",
            "dtypes: datetime64[ns](2), int64(2), object(7)\n",
            "memory usage: 2.5+ MB\n"
          ]
        }
      ]
    },
    {
      "cell_type": "code",
      "source": [
        "df_reviews.shape"
      ],
      "metadata": {
        "colab": {
          "base_uri": "https://localhost:8080/"
        },
        "id": "nthBLj12cVKW",
        "outputId": "acf43449-d5b0-4554-fe18-ddfacc7507b4"
      },
      "execution_count": 8,
      "outputs": [
        {
          "output_type": "execute_result",
          "data": {
            "text/plain": [
              "(30000, 11)"
            ]
          },
          "metadata": {},
          "execution_count": 8
        }
      ]
    },
    {
      "cell_type": "code",
      "source": [
        "df_reviews = df_reviews.drop_duplicates()"
      ],
      "metadata": {
        "id": "ei29I_ricWFw"
      },
      "execution_count": 9,
      "outputs": []
    },
    {
      "cell_type": "code",
      "source": [
        "jumlah_ulasan, jumlah_kolom = df_reviews.shape\n",
        "print(\"Jumlah Ulasan\", jumlah_ulasan)\n",
        "print(\"Jumlah Kolom\", jumlah_kolom)"
      ],
      "metadata": {
        "colab": {
          "base_uri": "https://localhost:8080/"
        },
        "id": "wcpfuyB0ciY6",
        "outputId": "39eaefed-f907-4420-9777-23b58ba22474"
      },
      "execution_count": null,
      "outputs": [
        {
          "output_type": "stream",
          "name": "stdout",
          "text": [
            "Jumlah Ulasan 30000\n",
            "Jumlah Kolom 11\n"
          ]
        }
      ]
    },
    {
      "cell_type": "code",
      "source": [
        "df = df_reviews"
      ],
      "metadata": {
        "id": "LiojHzPVc97-"
      },
      "execution_count": 10,
      "outputs": []
    },
    {
      "cell_type": "markdown",
      "source": [
        "##**Preprocessing Data**"
      ],
      "metadata": {
        "id": "KuaVUlencqsu"
      }
    },
    {
      "cell_type": "code",
      "source": [
        "# Convert the 'at' column to datetime\n",
        "df['at'] = pd.to_datetime(df['at'])\n",
        "\n",
        "# Eksplorasi\n",
        "print(f\"Jumlah data 2024-2025: {len(df_2024_2025)}\")\n",
        "print(\"\\nDistribusi rating:\")\n",
        "print(df_2024_2025['score'].value_counts())\n",
        "print(\"\\nMissing values:\")\n",
        "print(df_2024_2025.isnull().sum())\n",
        "print(\"\\nSampel teks:\")\n",
        "print(df_2024_2025['content'].head(10))"
      ],
      "metadata": {
        "colab": {
          "base_uri": "https://localhost:8080/"
        },
        "id": "_JbYvX20cxRB",
        "outputId": "dadb8213-2350-42c6-f835-a68aa3955882"
      },
      "execution_count": 11,
      "outputs": [
        {
          "output_type": "stream",
          "name": "stdout",
          "text": [
            "Jumlah data 2024-2025: 30000\n",
            "\n",
            "Distribusi rating:\n",
            "score\n",
            "5    13717\n",
            "1     8624\n",
            "3     2621\n",
            "4     2520\n",
            "2     2518\n",
            "Name: count, dtype: int64\n",
            "\n",
            "Missing values:\n",
            "reviewId                    0\n",
            "userName                    0\n",
            "userImage                   0\n",
            "content                     0\n",
            "score                       0\n",
            "thumbsUpCount               0\n",
            "reviewCreatedVersion    12218\n",
            "at                          0\n",
            "replyContent            29990\n",
            "repliedAt               29990\n",
            "appVersion              12218\n",
            "dtype: int64\n",
            "\n",
            "Sampel teks:\n",
            "0                                          bagus bngtt\n",
            "1                                       apk bikin puas\n",
            "2                                           mantapp su\n",
            "3                                                    👌\n",
            "4    Tik tok knp si dari kemaren g bisa di buka,klo...\n",
            "5    tiktok... tolong perbaiki bug nya... selalu ke...\n",
            "6    sekarang tiktok baperan pdhl gak ngapa ngapain...\n",
            "7    kenapa saya gak bisa menautkan/menambahkan ema...\n",
            "8        Jgn sensi² Napa der 😒bintang 1 kurang ramah 😒\n",
            "9                                             Mantap👍👍\n",
            "Name: content, dtype: object\n"
          ]
        }
      ]
    },
    {
      "cell_type": "code",
      "source": [
        "# Drop the specified columns\n",
        "columns_to_drop = ['reviewId', 'userName', 'userImage', 'reviewCreatedVersion', 'replyContent', 'repliedAt', 'appVersion']\n",
        "df = df.drop(columns=columns_to_drop)\n",
        "\n",
        "# Verify the changes\n",
        "print(df.info())"
      ],
      "metadata": {
        "colab": {
          "base_uri": "https://localhost:8080/"
        },
        "id": "iLj-To_mdFuI",
        "outputId": "6a2f87dd-8b7e-451d-ed27-c3ac0d6b5348"
      },
      "execution_count": 12,
      "outputs": [
        {
          "output_type": "stream",
          "name": "stdout",
          "text": [
            "<class 'pandas.core.frame.DataFrame'>\n",
            "RangeIndex: 30000 entries, 0 to 29999\n",
            "Data columns (total 4 columns):\n",
            " #   Column         Non-Null Count  Dtype         \n",
            "---  ------         --------------  -----         \n",
            " 0   content        30000 non-null  object        \n",
            " 1   score          30000 non-null  int64         \n",
            " 2   thumbsUpCount  30000 non-null  int64         \n",
            " 3   at             30000 non-null  datetime64[ns]\n",
            "dtypes: datetime64[ns](1), int64(2), object(1)\n",
            "memory usage: 937.6+ KB\n",
            "None\n"
          ]
        }
      ]
    },
    {
      "cell_type": "code",
      "source": [
        "cleaned_df = df"
      ],
      "metadata": {
        "id": "c15L5WHUeatD"
      },
      "execution_count": 13,
      "outputs": []
    },
    {
      "cell_type": "code",
      "source": [
        "cleaned_df.to_csv('labeling_data.csv', index=False)"
      ],
      "metadata": {
        "id": "Pg1nOuQjjW8j"
      },
      "execution_count": 14,
      "outputs": []
    }
  ]
}